{
 "cells": [
  {
   "cell_type": "code",
   "execution_count": 1,
   "id": "02e4cfae-7faa-41a0-9258-9c6985bae65d",
   "metadata": {},
   "outputs": [
    {
     "data": {
      "text/plain": [
       "14"
      ]
     },
     "execution_count": 1,
     "metadata": {},
     "output_type": "execute_result"
    }
   ],
   "source": [
    "# PYTHON PROGRAMMING FUNDAMENTALS\n",
    "\n",
    "# arithemtic operation(s)\n",
    "100 // 7"
   ]
  },
  {
   "cell_type": "code",
   "execution_count": 45,
   "id": "100478a4-c8aa-4594-94bf-850ec1b76c9a",
   "metadata": {},
   "outputs": [
    {
     "name": "stdout",
     "output_type": "stream",
     "text": [
      "Total profit is in € 125.0\n"
     ]
    }
   ],
   "source": [
    "# variables\n",
    "cost_of_ice_bag = 1.25\n",
    "profit_margin = 0.2\n",
    "number_of_bags = 500\n",
    "\n",
    "profit_per_bag = cost_of_ice_bag * profit_margin\n",
    "\n",
    "total_profit = number_of_bags * profit_per_bag\n",
    "print(\"Total profit is in €\", total_profit)"
   ]
  },
  {
   "cell_type": "code",
   "execution_count": 1,
   "id": "75109fc8-0f7a-48f7-bb40-1529106f75c1",
   "metadata": {
    "scrolled": true
   },
   "outputs": [
    {
     "name": "stdout",
     "output_type": "stream",
     "text": [
      "11\n"
     ]
    }
   ],
   "source": [
    "couter = 10\n",
    "couter += 1\n",
    "print(couter)"
   ]
  },
  {
   "cell_type": "code",
   "execution_count": 27,
   "id": "df5d2de2-d11a-4c97-af27-1ada55dcdc2a",
   "metadata": {},
   "outputs": [
    {
     "data": {
      "text/plain": [
       "bool"
      ]
     },
     "execution_count": 27,
     "metadata": {},
     "output_type": "execute_result"
    }
   ],
   "source": [
    "# data types\n",
    "is_today_morning = False\n",
    "\n",
    "type(is_today_morning)"
   ]
  },
  {
   "cell_type": "code",
   "execution_count": 3,
   "id": "af921f80-8ac8-4e12-b4d7-85651458a63a",
   "metadata": {},
   "outputs": [
    {
     "data": {
      "text/plain": [
       "list"
      ]
     },
     "execution_count": 3,
     "metadata": {},
     "output_type": "execute_result"
    }
   ],
   "source": [
    "arr_example = [\"apple\", \"juice\", \"tonic\"]\n",
    "\n",
    "type(arr_example)"
   ]
  },
  {
   "cell_type": "code",
   "execution_count": 41,
   "id": "87c45e32-feac-4820-8fd6-e1780bfef375",
   "metadata": {},
   "outputs": [
    {
     "data": {
      "text/plain": [
       "float"
      ]
     },
     "execution_count": 41,
     "metadata": {},
     "output_type": "execute_result"
    }
   ],
   "source": [
    "pi_no = 3.14159\n",
    "\n",
    "type(pi_no)"
   ]
  },
  {
   "cell_type": "code",
   "execution_count": 49,
   "id": "67468ab2-2ed7-4af8-bc8a-2980a4ec72da",
   "metadata": {},
   "outputs": [
    {
     "data": {
      "text/plain": [
       "3"
      ]
     },
     "execution_count": 49,
     "metadata": {},
     "output_type": "execute_result"
    }
   ],
   "source": [
    "# cast\n",
    "int(pi_no)"
   ]
  },
  {
   "cell_type": "code",
   "execution_count": 51,
   "id": "32bd8811-2ea6-48f1-a783-08b1391416ff",
   "metadata": {},
   "outputs": [
    {
     "data": {
      "text/plain": [
       "'3.14159'"
      ]
     },
     "execution_count": 51,
     "metadata": {},
     "output_type": "execute_result"
    }
   ],
   "source": [
    "str(pi_no)"
   ]
  },
  {
   "cell_type": "code",
   "execution_count": 73,
   "id": "97138990-b44a-4b8c-b3a8-260d6fb78f7d",
   "metadata": {},
   "outputs": [
    {
     "data": {
      "text/plain": [
       "'a'"
      ]
     },
     "execution_count": 73,
     "metadata": {},
     "output_type": "execute_result"
    }
   ],
   "source": [
    "multiline_string = \"\"\"abcdefgh\"\"\"\n",
    "\n",
    "multiline_string[0]"
   ]
  },
  {
   "cell_type": "code",
   "execution_count": 95,
   "id": "e7202ef6-a4bc-4c97-a6d7-4e1cf8ef6fc7",
   "metadata": {},
   "outputs": [
    {
     "data": {
      "text/plain": [
       "['a', 'b', 'c', 'd', 'e', 'f', 'g', 'h']"
      ]
     },
     "execution_count": 95,
     "metadata": {},
     "output_type": "execute_result"
    }
   ],
   "source": [
    "list(multiline_string)"
   ]
  },
  {
   "cell_type": "code",
   "execution_count": 97,
   "id": "aa00f4ed-2d52-482d-84d4-45b5ec1a09e1",
   "metadata": {},
   "outputs": [
    {
     "data": {
      "text/plain": [
       "8"
      ]
     },
     "execution_count": 97,
     "metadata": {},
     "output_type": "execute_result"
    }
   ],
   "source": [
    "len(multiline_string)"
   ]
  },
  {
   "cell_type": "code",
   "execution_count": 99,
   "id": "c1b4c0ff-1bc5-4779-82d9-4bdcf3ad954c",
   "metadata": {},
   "outputs": [
    {
     "data": {
      "text/plain": [
       "'Saturday'"
      ]
     },
     "execution_count": 99,
     "metadata": {},
     "output_type": "execute_result"
    }
   ],
   "source": [
    "# string methods\n",
    "\"saturday\".capitalize()"
   ]
  },
  {
   "cell_type": "code",
   "execution_count": 101,
   "id": "577c2d05-9b78-490e-bdf0-ab7e169af7fc",
   "metadata": {},
   "outputs": [
    {
     "data": {
      "text/plain": [
       "'MONDAY'"
      ]
     },
     "execution_count": 101,
     "metadata": {},
     "output_type": "execute_result"
    }
   ],
   "source": [
    "\"monday\".upper()"
   ]
  },
  {
   "cell_type": "code",
   "execution_count": 103,
   "id": "24c1cc83-68de-46de-a880-801ac736cacf",
   "metadata": {},
   "outputs": [
    {
     "data": {
      "text/plain": [
       "'Sunday'"
      ]
     },
     "execution_count": 103,
     "metadata": {},
     "output_type": "execute_result"
    }
   ],
   "source": [
    "\"Monday\".replace(\"Monday\", \"Sunday\")"
   ]
  },
  {
   "cell_type": "code",
   "execution_count": 105,
   "id": "180574a8-d76a-4ec9-a599-4e3bf0755448",
   "metadata": {},
   "outputs": [
    {
     "data": {
      "text/plain": [
       "'Monday'"
      ]
     },
     "execution_count": 105,
     "metadata": {},
     "output_type": "execute_result"
    }
   ],
   "source": [
    "\"       Monday      \".strip()"
   ]
  },
  {
   "cell_type": "code",
   "execution_count": 149,
   "id": "50d1a169-3506-43fe-87bc-872ba357e555",
   "metadata": {},
   "outputs": [
    {
     "name": "stdout",
     "output_type": "stream",
     "text": [
      "['lemon', 'cherry']\n"
     ]
    }
   ],
   "source": [
    "# list (arrays - mutable)\n",
    "fruits = ['apple', 'banana', 'cherry']\n",
    "#len(fruits)\n",
    "\n",
    "fruits[0] = 'lemon'\n",
    "\n",
    "fruits.append('dates')\n",
    "fruits.remove('dates')\n",
    "fruits.pop(1)\n",
    "fruits.copy()\n",
    "\n",
    "print(fruits)"
   ]
  },
  {
   "cell_type": "code",
   "execution_count": 141,
   "id": "146ed826-c066-40cc-82a1-647b7f151fcd",
   "metadata": {},
   "outputs": [
    {
     "data": {
      "text/plain": [
       "[None, 3.14, ['lemon', 'banana', 'cherry']]"
      ]
     },
     "execution_count": 141,
     "metadata": {},
     "output_type": "execute_result"
    }
   ],
   "source": [
    "a_list = [23, 'hello', None, 3.14, fruits, 3 <= 5]\n",
    "\n",
    "a_list[2:5]"
   ]
  },
  {
   "cell_type": "code",
   "execution_count": 153,
   "id": "e0c0e58d-328c-45c4-bade-05f528a9dfb3",
   "metadata": {},
   "outputs": [],
   "source": [
    "# tuple (immutable)\n",
    "tuple_arr = (1, 2, 3, 4, 5)"
   ]
  },
  {
   "cell_type": "code",
   "execution_count": 65,
   "id": "0a469de4-912a-4caa-853d-dabe5968a44e",
   "metadata": {},
   "outputs": [
    {
     "data": {
      "text/plain": [
       "dict_items([('name', 'Ted'), ('age', 32), ('married', True)])"
      ]
     },
     "execution_count": 65,
     "metadata": {},
     "output_type": "execute_result"
    }
   ],
   "source": [
    "# dictinary\n",
    "person1 = {\n",
    "    'name': 'John Doe',\n",
    "    'age': 32,\n",
    "    'married': True\n",
    "}\n",
    "\n",
    "person1['name'] = 'Ted'\n",
    "person1\n",
    "\n",
    "person1.keys()\n",
    "person1.values()\n",
    "person1.items()"
   ]
  },
  {
   "cell_type": "code",
   "execution_count": 67,
   "id": "45daacbc-e010-4d0b-9f47-36d93f37427e",
   "metadata": {},
   "outputs": [
    {
     "name": "stdout",
     "output_type": "stream",
     "text": [
      "Both a and c are True.\n",
      "Either b or c is True.\n",
      "b is False (NOT condition).\n"
     ]
    }
   ],
   "source": [
    "# BRANSHING LOOPS AND FUNCTIONS\n",
    "\n",
    "#if, else, elif\n",
    "a, b, c = True, False, True\n",
    "\n",
    "if a and c:\n",
    "    print(\"Both a and c are True.\")\n",
    "    \n",
    "if b or c:\n",
    "    print(\"Either b or c is True.\")\n",
    "    \n",
    "if not b:\n",
    "    print(\"b is False (NOT condition).\")"
   ]
  },
  {
   "cell_type": "code",
   "execution_count": 69,
   "id": "bb0f09fc-bf1d-4253-be01-a185ee60799a",
   "metadata": {},
   "outputs": [
    {
     "name": "stdout",
     "output_type": "stream",
     "text": [
      "This number 34 is odd\n"
     ]
    }
   ],
   "source": [
    "x_number = 34\n",
    "\n",
    "if x_number % 2:\n",
    "    print(\"The given number {} is even\".format(x_number))\n",
    "elif x_number % 1 == 0:\n",
    "    print(\"This number {} is odd\".format(x_number))\n",
    "else:\n",
    "     print(\"Other error\")\n"
   ]
  },
  {
   "cell_type": "code",
   "execution_count": 24,
   "id": "ad8721bd-c19e-4246-9cb1-16fbf47caf88",
   "metadata": {},
   "outputs": [
    {
     "name": "stdout",
     "output_type": "stream",
     "text": [
      "The result is 1\n",
      "The result is 2\n",
      "Stop at number 3\n"
     ]
    }
   ],
   "source": [
    "# while\n",
    "i = 1\n",
    "\n",
    "while i < 6:\n",
    "     print(f\"The result is {i}\")\n",
    "     i += 1\n",
    "     if i == 3:\n",
    "         print(f\"Stop at number {i}\")\n",
    "         break"
   ]
  },
  {
   "cell_type": "code",
   "execution_count": 32,
   "id": "2a9763ca-1734-4c2e-a9ad-dbab66784c54",
   "metadata": {},
   "outputs": [
    {
     "name": "stdout",
     "output_type": "stream",
     "text": [
      "Monday\n",
      "Tuesday\n",
      "Wednesday\n",
      "Thursday\n",
      "Friday\n"
     ]
    }
   ],
   "source": [
    "# for\n",
    "days = ['Monday', 'Tuesday', 'Wednesday', 'Thursday', 'Friday']\n",
    "\n",
    "for day in days:\n",
    "    print(day)"
   ]
  },
  {
   "cell_type": "code",
   "execution_count": 34,
   "id": "07aae362-3a03-42de-b1df-30807d1339c0",
   "metadata": {},
   "outputs": [
    {
     "name": "stdout",
     "output_type": "stream",
     "text": [
      "M\n",
      "o\n",
      "n\n",
      "d\n",
      "a\n",
      "y\n"
     ]
    }
   ],
   "source": [
    "for char in 'Monday':\n",
    "    print(char)"
   ]
  },
  {
   "cell_type": "code",
   "execution_count": 52,
   "id": "7313d6c3-90f2-47b2-b84b-c4c8727e1628",
   "metadata": {},
   "outputs": [
    {
     "name": "stdout",
     "output_type": "stream",
     "text": [
      "John Doe\n",
      "32\n",
      "True\n"
     ]
    }
   ],
   "source": [
    "person = {\n",
    "    'name': 'John Doe',\n",
    "    'age': 32,\n",
    "    'married': True\n",
    "}\n",
    "\n",
    "for value in person.values():\n",
    "    print(value)"
   ]
  },
  {
   "cell_type": "code",
   "execution_count": 56,
   "id": "d99a1ebb-6482-4a57-b272-9f63fc135a48",
   "metadata": {},
   "outputs": [
    {
     "name": "stdout",
     "output_type": "stream",
     "text": [
      "1\n",
      "2\n",
      "3\n",
      "4\n",
      "5\n",
      "6\n",
      "7\n",
      "8\n",
      "9\n"
     ]
    }
   ],
   "source": [
    "for i in range(1,10):\n",
    "    print(i)"
   ]
  },
  {
   "cell_type": "code",
   "execution_count": 62,
   "id": "e0dc5b5b-3d3c-467d-a880-02a030abd31c",
   "metadata": {},
   "outputs": [
    {
     "name": "stdout",
     "output_type": "stream",
     "text": [
      "Monday apple\n",
      "Monday banana\n",
      "Monday apple\n",
      "Tuesday apple\n",
      "Tuesday banana\n",
      "Tuesday apple\n",
      "Wednesday apple\n",
      "Wednesday banana\n",
      "Wednesday apple\n"
     ]
    }
   ],
   "source": [
    "days = ['Monday', 'Tuesday', 'Wednesday']\n",
    "fruits = ['apple', 'banana', 'apple']\n",
    "\n",
    "for day in days:\n",
    "    for fruit in fruits:\n",
    "        print(day, fruit)"
   ]
  },
  {
   "cell_type": "code",
   "execution_count": 1,
   "id": "f55b8ccd-5134-4aba-8657-162d2c2fc7e3",
   "metadata": {},
   "outputs": [
    {
     "name": "stdout",
     "output_type": "stream",
     "text": [
      "Hello Johnny there\n"
     ]
    }
   ],
   "source": [
    "# functions\n",
    "def sayHello(name):\n",
    "    print(f\"Hello {name} there\")\n",
    "\n",
    "sayHello(\"Johnny\")"
   ]
  },
  {
   "cell_type": "code",
   "execution_count": 86,
   "id": "06ae3754-7ad5-4b44-8140-47dac76fcb58",
   "metadata": {},
   "outputs": [
    {
     "name": "stdout",
     "output_type": "stream",
     "text": [
      "the result is 8\n"
     ]
    }
   ],
   "source": [
    "def myFun(a,b):\n",
    "    result = a + b\n",
    "    print(f\"the result is {result}\")\n",
    "    # return result\n",
    "\n",
    "myFun(3, 5)"
   ]
  },
  {
   "cell_type": "code",
   "execution_count": 88,
   "id": "8b52a337-4077-4c87-9c65-99e937d4066c",
   "metadata": {},
   "outputs": [],
   "source": [
    "import math"
   ]
  },
  {
   "cell_type": "code",
   "execution_count": 114,
   "id": "4d7b32b8-7cd6-485a-9c0a-3088c0036044",
   "metadata": {},
   "outputs": [
    {
     "data": {
      "text/plain": [
       "2"
      ]
     },
     "execution_count": 114,
     "metadata": {},
     "output_type": "execute_result"
    }
   ],
   "source": [
    "math.ceil(1.2)"
   ]
  },
  {
   "cell_type": "code",
   "execution_count": 116,
   "id": "5410259d-7236-4615-b4f3-424924dc6ee4",
   "metadata": {},
   "outputs": [
    {
     "data": {
      "text/plain": [
       "4"
      ]
     },
     "execution_count": 116,
     "metadata": {},
     "output_type": "execute_result"
    }
   ],
   "source": [
    "round(4.5)"
   ]
  },
  {
   "cell_type": "code",
   "execution_count": 118,
   "id": "c31b1dd7-95ab-46df-96c1-b675f2b76fec",
   "metadata": {},
   "outputs": [
    {
     "name": "stdout",
     "output_type": "stream",
     "text": [
      "4\n"
     ]
    }
   ],
   "source": [
    "try:\n",
    "    print(round(4.5))\n",
    "except:\n",
    "    print(\"Error\")"
   ]
  },
  {
   "cell_type": "code",
   "execution_count": 8,
   "id": "74ff15ff-f1be-48ae-87af-8482853d50a0",
   "metadata": {},
   "outputs": [
    {
     "name": "stdout",
     "output_type": "stream",
     "text": [
      "Requirement already satisfied: numpy in c:\\users\\veronika\\anaconda3\\lib\\site-packages (1.26.4)\n"
     ]
    },
    {
     "data": {
      "text/plain": [
       "array([73, 67, 43])"
      ]
     },
     "execution_count": 8,
     "metadata": {},
     "output_type": "execute_result"
    }
   ],
   "source": [
    "#NUMPY\n",
    "\n",
    "# numpy Arrays\n",
    "# !pip install numpy\n",
    "\n",
    "weight[0]\n",
    "import numpy as np\n",
    "\n",
    "height = np.array([73, 67, 43])\n",
    "\n",
    "height"
   ]
  },
  {
   "cell_type": "code",
   "execution_count": 30,
   "id": "b3b8f8c6-439e-452d-a23c-470283e848ce",
   "metadata": {},
   "outputs": [
    {
     "data": {
      "text/plain": [
       "array([0.3, 0.2, 0.5])"
      ]
     },
     "execution_count": 30,
     "metadata": {},
     "output_type": "execute_result"
    }
   ],
   "source": [
    "weight = np.array([0.3, 0.2, 0.5])\n",
    "\n",
    "weight"
   ]
  },
  {
   "cell_type": "code",
   "execution_count": 32,
   "id": "1de4904d-25b7-4606-973d-b7ce72ab570e",
   "metadata": {},
   "outputs": [
    {
     "data": {
      "text/plain": [
       "0.3"
      ]
     },
     "execution_count": 32,
     "metadata": {},
     "output_type": "execute_result"
    }
   ],
   "source": [
    "weight[0]"
   ]
  },
  {
   "cell_type": "code",
   "execution_count": 38,
   "id": "c6b5da80-2d6c-471b-9493-e2c7b54ef97d",
   "metadata": {},
   "outputs": [
    {
     "data": {
      "text/plain": [
       "56.8"
      ]
     },
     "execution_count": 38,
     "metadata": {},
     "output_type": "execute_result"
    }
   ],
   "source": [
    "# operating on numpy array\n",
    "\n",
    "# (weight * height).sum()\n",
    "np.dot(weight, height)"
   ]
  },
  {
   "cell_type": "code",
   "execution_count": 59,
   "id": "860d0107-8308-4123-9589-2af3fbed4a22",
   "metadata": {},
   "outputs": [
    {
     "data": {
      "text/plain": [
       "(5, 3)"
      ]
     },
     "execution_count": 59,
     "metadata": {},
     "output_type": "execute_result"
    }
   ],
   "source": [
    "# multi-dimensional numpy array\n",
    "\n",
    "climate_data = np.array(\n",
    "    [[73, 67, 43],\n",
    "    [91, 88, 64],\n",
    "    [87, 134, 58],\n",
    "    [102, 43, 37],\n",
    "    [69, 96, 70]]\n",
    ")\n",
    "\n",
    "climate_data.shape"
   ]
  },
  {
   "cell_type": "code",
   "execution_count": 57,
   "id": "a300b980-865c-4cb7-89bc-ab0cd51ff10d",
   "metadata": {},
   "outputs": [
    {
     "data": {
      "text/plain": [
       "(3,)"
      ]
     },
     "execution_count": 57,
     "metadata": {},
     "output_type": "execute_result"
    }
   ],
   "source": [
    "weight.shape"
   ]
  },
  {
   "cell_type": "code",
   "execution_count": 71,
   "id": "f5ccf69b-b0a7-4dec-89fd-bc458c859e68",
   "metadata": {},
   "outputs": [
    {
     "data": {
      "text/plain": [
       "(2, 3, 4)"
      ]
     },
     "execution_count": 71,
     "metadata": {},
     "output_type": "execute_result"
    }
   ],
   "source": [
    "arr3 = np.array(\n",
    "        [[[0, 0, 0, 0], \n",
    "        [0, 0, 0, 0], \n",
    "        [0, 0, 0, 0]],\n",
    "        \n",
    "        [[0, 0, 0, 0], \n",
    "        [0, 0, 0, 0], \n",
    "        [0, 0, 0, 0]]]\n",
    ")\n",
    "\n",
    "arr3.shape"
   ]
  },
  {
   "cell_type": "code",
   "execution_count": 73,
   "id": "13e91ac2-f654-4ba5-a2d4-70431eb39b89",
   "metadata": {},
   "outputs": [
    {
     "data": {
      "text/plain": [
       "array([56.8, 76.9, 81.9, 57.7, 74.9])"
      ]
     },
     "execution_count": 73,
     "metadata": {},
     "output_type": "execute_result"
    }
   ],
   "source": [
    "# climate_data @ weight\n",
    "np.matmul(climate_data, weight)"
   ]
  },
  {
   "cell_type": "code",
   "execution_count": 81,
   "id": "46dce8d1-5a63-4abc-a748-ab357e762c4d",
   "metadata": {},
   "outputs": [
    {
     "data": {
      "text/plain": [
       "('climate.txt', <http.client.HTTPMessage at 0x1e32195b470>)"
      ]
     },
     "execution_count": 81,
     "metadata": {},
     "output_type": "execute_result"
    }
   ],
   "source": [
    "import urllib.request\n",
    "\n",
    "urllib.request.urlretrieve('https://raw.githubusercontent.com/the-stranger-web/jovian_Data_Analyst/refs/heads/main/italy-covid-daywise.csv', 'climate.txt')"
   ]
  },
  {
   "cell_type": "code",
   "execution_count": 91,
   "id": "3984a43b-1c6c-4d06-911f-b843d47937a0",
   "metadata": {},
   "outputs": [
    {
     "data": {
      "text/plain": [
       "array([[        nan,  0.0000e+00,  0.0000e+00,         nan],\n",
       "       [        nan,  0.0000e+00,  0.0000e+00,         nan],\n",
       "       [        nan,  0.0000e+00,  0.0000e+00,         nan],\n",
       "       [        nan,  0.0000e+00,  0.0000e+00,         nan],\n",
       "       [        nan,  0.0000e+00,  0.0000e+00,         nan],\n",
       "       [        nan,  0.0000e+00,  0.0000e+00,         nan],\n",
       "       [        nan,  0.0000e+00,  0.0000e+00,         nan],\n",
       "       [        nan,  0.0000e+00,  0.0000e+00,         nan],\n",
       "       [        nan,  0.0000e+00,  0.0000e+00,         nan],\n",
       "       [        nan,  0.0000e+00,  0.0000e+00,         nan],\n",
       "       [        nan,  0.0000e+00,  0.0000e+00,         nan],\n",
       "       [        nan,  0.0000e+00,  0.0000e+00,         nan],\n",
       "       [        nan,  0.0000e+00,  0.0000e+00,         nan],\n",
       "       [        nan,  0.0000e+00,  0.0000e+00,         nan],\n",
       "       [        nan,  0.0000e+00,  0.0000e+00,         nan],\n",
       "       [        nan,  0.0000e+00,  0.0000e+00,         nan],\n",
       "       [        nan,  0.0000e+00,  0.0000e+00,         nan],\n",
       "       [        nan,  0.0000e+00,  0.0000e+00,         nan],\n",
       "       [        nan,  0.0000e+00,  0.0000e+00,         nan],\n",
       "       [        nan,  0.0000e+00,  0.0000e+00,         nan],\n",
       "       [        nan,  0.0000e+00,  0.0000e+00,         nan],\n",
       "       [        nan,  0.0000e+00,  0.0000e+00,         nan],\n",
       "       [        nan,  0.0000e+00,  0.0000e+00,         nan],\n",
       "       [        nan,  0.0000e+00,  0.0000e+00,         nan],\n",
       "       [        nan,  0.0000e+00,  0.0000e+00,         nan],\n",
       "       [        nan,  0.0000e+00,  0.0000e+00,         nan],\n",
       "       [        nan,  0.0000e+00,  0.0000e+00,         nan],\n",
       "       [        nan,  0.0000e+00,  0.0000e+00,         nan],\n",
       "       [        nan,  0.0000e+00,  0.0000e+00,         nan],\n",
       "       [        nan,  0.0000e+00,  0.0000e+00,         nan],\n",
       "       [        nan,  0.0000e+00,  0.0000e+00,         nan],\n",
       "       [        nan,  3.0000e+00,  0.0000e+00,         nan],\n",
       "       [        nan,  0.0000e+00,  0.0000e+00,         nan],\n",
       "       [        nan,  0.0000e+00,  0.0000e+00,         nan],\n",
       "       [        nan,  0.0000e+00,  0.0000e+00,         nan],\n",
       "       [        nan,  0.0000e+00,  0.0000e+00,         nan],\n",
       "       [        nan,  0.0000e+00,  0.0000e+00,         nan],\n",
       "       [        nan,  0.0000e+00,  0.0000e+00,         nan],\n",
       "       [        nan,  0.0000e+00,  0.0000e+00,         nan],\n",
       "       [        nan,  0.0000e+00,  0.0000e+00,         nan],\n",
       "       [        nan,  0.0000e+00,  0.0000e+00,         nan],\n",
       "       [        nan,  0.0000e+00,  0.0000e+00,         nan],\n",
       "       [        nan,  0.0000e+00,  0.0000e+00,         nan],\n",
       "       [        nan,  0.0000e+00,  0.0000e+00,         nan],\n",
       "       [        nan,  0.0000e+00,  0.0000e+00,         nan],\n",
       "       [        nan,  0.0000e+00,  0.0000e+00,         nan],\n",
       "       [        nan,  0.0000e+00,  0.0000e+00,         nan],\n",
       "       [        nan,  0.0000e+00,  0.0000e+00,         nan],\n",
       "       [        nan,  0.0000e+00,  0.0000e+00,         nan],\n",
       "       [        nan,  0.0000e+00,  0.0000e+00,         nan],\n",
       "       [        nan,  0.0000e+00,  0.0000e+00,         nan],\n",
       "       [        nan,  0.0000e+00,  0.0000e+00,         nan],\n",
       "       [        nan,  0.0000e+00,  0.0000e+00,         nan],\n",
       "       [        nan,  1.4000e+01,  0.0000e+00,         nan],\n",
       "       [        nan,  6.2000e+01,  2.0000e+00,         nan],\n",
       "       [        nan,  5.3000e+01,  0.0000e+00,         nan],\n",
       "       [        nan,  9.7000e+01,  4.0000e+00,         nan],\n",
       "       [        nan,  9.3000e+01,  5.0000e+00,         nan],\n",
       "       [        nan,  7.8000e+01,  1.0000e+00,         nan],\n",
       "       [        nan,  2.5000e+02,  5.0000e+00,         nan],\n",
       "       [        nan,  2.3800e+02,  4.0000e+00,         nan],\n",
       "       [        nan,  2.4000e+02,  8.0000e+00,         nan],\n",
       "       [        nan,  5.6100e+02,  6.0000e+00,         nan],\n",
       "       [        nan,  3.4700e+02,  1.7000e+01,         nan],\n",
       "       [        nan,  4.6600e+02,  2.8000e+01,         nan],\n",
       "       [        nan,  5.8700e+02,  2.7000e+01,         nan],\n",
       "       [        nan,  7.6900e+02,  4.1000e+01,         nan],\n",
       "       [        nan,  7.7800e+02,  4.9000e+01,         nan],\n",
       "       [        nan,  1.2470e+03,  3.6000e+01,         nan],\n",
       "       [        nan,  1.4920e+03,  1.3300e+02,         nan],\n",
       "       [        nan,  1.7970e+03,  9.8000e+01,         nan],\n",
       "       [        nan,  9.7700e+02,  1.6700e+02,         nan],\n",
       "       [        nan,  2.3130e+03,  1.9600e+02,         nan],\n",
       "       [        nan,  2.6510e+03,  1.8900e+02,         nan],\n",
       "       [        nan,  2.5470e+03,  2.5200e+02,         nan],\n",
       "       [        nan,  3.4970e+03,  1.7300e+02,         nan],\n",
       "       [        nan,  2.8230e+03,  3.7000e+02,         nan],\n",
       "       [        nan,  4.0000e+03,  3.4700e+02,         nan],\n",
       "       [        nan,  3.5260e+03,  3.4700e+02,         nan],\n",
       "       [        nan,  4.2070e+03,  4.7300e+02,         nan],\n",
       "       [        nan,  5.3220e+03,  4.2900e+02,         nan],\n",
       "       [        nan,  5.9860e+03,  6.2500e+02,         nan],\n",
       "       [        nan,  6.5570e+03,  7.9500e+02,         nan],\n",
       "       [        nan,  5.5600e+03,  6.4900e+02,         nan],\n",
       "       [        nan,  4.7890e+03,  6.0100e+02,         nan],\n",
       "       [        nan,  5.2490e+03,  7.4300e+02,         nan],\n",
       "       [        nan,  5.2100e+03,  6.8500e+02,         nan],\n",
       "       [        nan,  6.1530e+03,  6.6000e+02,         nan],\n",
       "       [        nan,  5.9590e+03,  9.7100e+02,         nan],\n",
       "       [        nan,  5.9740e+03,  8.8700e+02,         nan],\n",
       "       [        nan,  5.2170e+03,  7.5800e+02,         nan],\n",
       "       [        nan,  4.0500e+03,  8.1000e+02,         nan],\n",
       "       [        nan,  4.0530e+03,  8.3900e+02,         nan],\n",
       "       [        nan,  4.7820e+03,  7.2700e+02,         nan],\n",
       "       [        nan,  4.6680e+03,  7.6000e+02,         nan],\n",
       "       [        nan,  4.5850e+03,  7.6400e+02,         nan],\n",
       "       [        nan,  4.8050e+03,  6.8100e+02,         nan],\n",
       "       [        nan,  4.3160e+03,  5.2700e+02,         nan],\n",
       "       [        nan,  3.5990e+03,  6.3600e+02,         nan],\n",
       "       [        nan,  3.0390e+03,  6.0400e+02,         nan],\n",
       "       [        nan,  3.8360e+03,  5.4000e+02,         nan],\n",
       "       [        nan,  4.2040e+03,  6.1200e+02,         nan],\n",
       "       [        nan,  3.9510e+03,  5.7000e+02,         nan],\n",
       "       [        nan,  4.6940e+03,  6.1900e+02,         nan],\n",
       "       [        nan,  4.0920e+03,  4.3100e+02,         nan],\n",
       "       [        nan,  3.1530e+03,  5.6400e+02,         nan],\n",
       "       [        nan,  2.9720e+03,  6.0400e+02,         nan],\n",
       "       [        nan,  2.6670e+03,  5.7800e+02,         nan],\n",
       "       [        nan,  3.7860e+03,  5.2500e+02,         nan],\n",
       "       [        nan,  3.4930e+03,  5.7500e+02,         nan],\n",
       "       [        nan,  3.4910e+03,  4.8000e+02,         nan],\n",
       "       [        nan,  3.0470e+03,  4.3300e+02,  7.8410e+03],\n",
       "       [        nan,  2.2560e+03,  4.5400e+02,  2.8095e+04],\n",
       "       [        nan,  2.7290e+03,  5.3400e+02,  4.4248e+04],\n",
       "       [        nan,  3.3700e+03,  4.3700e+02,  3.7083e+04],\n",
       "       [        nan,  2.6460e+03,  4.6400e+02,  9.5273e+04],\n",
       "       [        nan,  3.0210e+03,  4.2000e+02,  3.8676e+04],\n",
       "       [        nan,  2.3570e+03,  4.1500e+02,  2.4113e+04],\n",
       "       [        nan,  2.3240e+03,  2.6000e+02,  2.6678e+04],\n",
       "       [        nan,  1.7390e+03,  3.3300e+02,  3.7554e+04],\n",
       "       [        nan,  2.0910e+03,  3.8200e+02,  3.8589e+04],\n",
       "       [        nan,  2.0860e+03,  3.2300e+02,  4.1441e+04],\n",
       "       [        nan,  1.8720e+03,  2.8500e+02,  4.3732e+04],\n",
       "       [        nan,  1.9650e+03,  2.6900e+02,  3.1231e+04],\n",
       "       [        nan,  1.9000e+03,  4.7400e+02,  2.7047e+04],\n",
       "       [        nan,  1.3890e+03,  1.7400e+02,  2.2999e+04],\n",
       "       [        nan,  1.2210e+03,  1.9500e+02,  3.2211e+04],\n",
       "       [        nan,  1.0750e+03,  2.3600e+02,  3.7771e+04],\n",
       "       [        nan,  1.4440e+03,  3.6900e+02,  1.3665e+04],\n",
       "       [        nan,  1.4010e+03,  2.7400e+02,  4.5428e+04],\n",
       "       [        nan,  1.3270e+03,  2.4300e+02,  3.6091e+04],\n",
       "       [        nan,  1.0830e+03,  1.9400e+02,  3.1384e+04],\n",
       "       [        nan,  8.0200e+02,  1.6500e+02,  2.5823e+04],\n",
       "       [        nan,  7.4400e+02,  1.7900e+02,  3.9620e+04],\n",
       "       [        nan,  1.4020e+03,  1.7200e+02,  3.7049e+04],\n",
       "       [        nan,  8.8800e+02,  1.9500e+02,  4.1131e+04],\n",
       "       [        nan,  9.9200e+02,  2.6200e+02,  3.9027e+04],\n",
       "       [        nan,  7.8900e+02,  2.4200e+02,  4.0657e+04],\n",
       "       [        nan,  8.7500e+02,  1.5300e+02,  3.3505e+04],\n",
       "       [        nan,  6.7500e+02,  1.4500e+02,  2.6101e+04],\n",
       "       [        nan,  4.5100e+02,  9.9000e+01,  4.0226e+04],\n",
       "       [        nan,  8.1300e+02,  1.6200e+02,  3.8617e+04],\n",
       "       [        nan,  6.6500e+02,  1.6100e+02,  4.0644e+04],\n",
       "       [        nan,  6.4200e+02,  1.5600e+02,  4.2987e+04],\n",
       "       [        nan,  6.5200e+02,  1.3000e+02,  4.2579e+04],\n",
       "       [        nan,  6.6900e+02,  1.1900e+02,  3.4206e+04],\n",
       "       [        nan,  5.3100e+02,  5.0000e+01,  2.0676e+04],\n",
       "       [        nan,  3.0000e+02,  9.2000e+01,  3.3944e+04],\n",
       "       [        nan,  3.9700e+02,  7.8000e+01,  3.7299e+04],\n",
       "       [        nan,  5.8400e+02,  1.1700e+02,  3.9838e+04],\n",
       "       [        nan,  5.9300e+02,  7.0000e+01,  3.8233e+04],\n",
       "       [        nan,  5.1600e+02,  8.7000e+01,  3.6051e+04],\n",
       "       [        nan,  4.1600e+02,  1.1100e+02,  2.8948e+04],\n",
       "       [        nan,  3.5500e+02,  7.5000e+01,  1.8053e+04],\n",
       "       [        nan,  1.7800e+02,  6.0000e+01,  2.5628e+04],\n",
       "       [        nan,  3.1800e+02,  5.5000e+01,  2.0035e+04],\n",
       "       [        nan,  3.2100e+02,  7.1000e+01,  2.7451e+04],\n",
       "       [        nan,  1.7700e+02,  8.8000e+01,  4.0470e+04],\n",
       "       [        nan,  5.1800e+02,  8.5000e+01,  3.4036e+04],\n",
       "       [        nan,  2.7000e+02,  7.2000e+01,  2.7894e+04],\n",
       "       [        nan,  1.9700e+02,  5.3000e+01,  1.6301e+04],\n",
       "       [        nan,  2.8000e+02,  6.5000e+01,  3.2200e+04],\n",
       "       [        nan,  2.8300e+02,  7.9000e+01,  3.7865e+04],\n",
       "       [        nan,  2.0200e+02,  7.1000e+01,  3.2991e+04],\n",
       "       [        nan,  3.7900e+02,  5.3000e+01,  3.7651e+04],\n",
       "       [        nan,  1.6300e+02,  5.6000e+01,  3.2880e+04],\n",
       "       [        nan,  3.4600e+02,  7.8000e+01,  2.9545e+04],\n",
       "       [        nan,  3.3800e+02,  4.4000e+01,  1.7463e+04],\n",
       "       [        nan,  3.0100e+02,  2.6000e+01,  2.7762e+04],\n",
       "       [        nan,  2.1000e+02,  3.4000e+01,  3.3957e+04],\n",
       "       [        nan,  3.2800e+02,  4.3000e+01,  3.2921e+04],\n",
       "       [        nan,  3.3100e+02,  6.6000e+01,  2.8570e+04],\n",
       "       [        nan, -1.4800e+02,  4.7000e+01,  2.9875e+04],\n",
       "       [        nan,  2.6400e+02,  4.9000e+01,  2.4581e+04],\n",
       "       [        nan,  2.2400e+02,  2.4000e+01,  1.6152e+04],\n",
       "       [        nan,  2.2100e+02,  2.3000e+01,  2.3225e+04],\n",
       "       [        nan,  1.1300e+02,  1.8000e+01,  3.0237e+04],\n",
       "       [        nan,  5.7700e+02, -3.1000e+01,  2.9421e+04],\n",
       "       [        nan,  2.9600e+02,  3.4000e+01,  2.8331e+04],\n",
       "       [        nan,  2.5500e+02,  3.0000e+01,  2.9721e+04],\n",
       "       [        nan,  1.7500e+02,  8.0000e+00,  2.1183e+04],\n",
       "       [        nan,  1.7400e+02,  2.2000e+01,  1.5484e+04],\n",
       "       [        nan,  1.2600e+02,  6.0000e+00,  2.8471e+04],\n",
       "       [        nan,  1.4200e+02,  2.3000e+01,  2.9325e+04],\n",
       "       [        nan,  1.8200e+02,  2.1000e+01,  2.9147e+04],\n",
       "       [        nan,  2.0100e+02,  3.0000e+01,  2.5680e+04],\n",
       "       [        nan,  2.2300e+02,  1.5000e+01,  2.8946e+04],\n",
       "       [        nan,  2.3500e+02,  2.1000e+01,  2.1166e+04],\n",
       "       [        nan,  1.9200e+02,  7.0000e+00,  1.3771e+04],\n",
       "       [        nan,  2.0800e+02,  8.0000e+00,  2.2490e+04],\n",
       "       [        nan,  1.3700e+02,  3.0000e+01,  2.8679e+04],\n",
       "       [        nan,  1.9300e+02,  1.5000e+01,  2.9947e+04],\n",
       "       [        nan,  2.1400e+02,  1.2000e+01,  2.7251e+04],\n",
       "       [        nan,  2.7600e+02,  1.2000e+01,  2.5449e+04],\n",
       "       [        nan,  1.8800e+02,  7.0000e+00,  2.3061e+04],\n",
       "       [        nan,  2.3400e+02,  9.0000e+00,  1.4006e+04],\n",
       "       [        nan,  1.6900e+02,  1.3000e+01,  2.4222e+04],\n",
       "       [        nan,  1.1400e+02,  1.7000e+01,  2.8392e+04],\n",
       "       [        nan,  1.6200e+02,  1.3000e+01,  2.8089e+04],\n",
       "       [        nan,  2.3000e+02,  2.0000e+01,  2.8661e+04],\n",
       "       [        nan,  2.3100e+02,  1.1000e+01,  2.7569e+04],\n",
       "       [        nan,  2.4900e+02,  1.4000e+01,  2.0621e+04],\n",
       "       [        nan,  2.1800e+02,  3.0000e+00,  1.4121e+04],\n",
       "       [        nan,  1.9000e+02,  1.3000e+01,  2.3915e+04],\n",
       "       [        nan,  1.2800e+02,  1.5000e+01,  2.9288e+04],\n",
       "       [        nan,  2.8000e+02,  9.0000e+00,  3.3018e+04],\n",
       "       [        nan,  3.0600e+02,  1.0000e+01,  2.8970e+04],\n",
       "       [        nan,  2.5200e+02,  5.0000e+00,  2.8059e+04],\n",
       "       [        nan,  2.7400e+02,  5.0000e+00,  2.5177e+04],\n",
       "       [        nan,  2.5400e+02,  5.0000e+00,  1.9374e+04],\n",
       "       [        nan,  1.6800e+02,  5.0000e+00,  2.5341e+04],\n",
       "       [        nan,  2.0200e+02,  1.1000e+01,  3.0875e+04],\n",
       "       [        nan,  2.8800e+02,  6.0000e+00,  3.3396e+04],\n",
       "       [        nan,  3.8200e+02,  3.0000e+00,  2.9686e+04],\n",
       "       [        nan,  3.7900e+02,  9.0000e+00,  3.1905e+04],\n",
       "       [        nan,  2.9500e+02,  5.0000e+00,  2.4496e+04],\n",
       "       [        nan,  2.3800e+02,  8.0000e+00,  1.3467e+04],\n",
       "       [        nan,  1.5900e+02,  1.2000e+01,  2.3491e+04],\n",
       "       [        nan,  1.9000e+02,  5.0000e+00,  2.9739e+04],\n",
       "       [        nan,  3.8400e+02,  1.0000e+01,  3.2169e+04],\n",
       "       [        nan,  4.0100e+02,  6.0000e+00,  3.0392e+04],\n",
       "       [        nan,  5.5200e+02,  3.0000e+00,  2.6631e+04],\n",
       "       [        nan,  3.4700e+02,  1.3000e+01,  2.2773e+04],\n",
       "       [        nan,  4.6300e+02,  2.0000e+00,  1.0904e+04],\n",
       "       [        nan,  2.5900e+02,  4.0000e+00,  2.2063e+04],\n",
       "       [        nan,  4.1200e+02,  6.0000e+00,  2.7330e+04],\n",
       "       [        nan,  4.7600e+02,  1.0000e+01,  2.5629e+04],\n",
       "       [        nan,  5.2200e+02,  6.0000e+00,  2.4868e+04],\n",
       "       [        nan,  5.7400e+02,  3.0000e+00,  2.5937e+04],\n",
       "       [        nan,  6.2900e+02,  1.5800e+02,  2.2470e+04],\n",
       "       [        nan,  4.7700e+02,  4.0000e+00,  2.1379e+04],\n",
       "       [        nan,  3.2000e+02,  4.0000e+00,  3.2687e+04],\n",
       "       [        nan,  4.0100e+02,  5.0000e+00,  4.1290e+04],\n",
       "       [        nan,  6.4200e+02,  7.0000e+00,  4.9662e+04],\n",
       "       [        nan,  8.4000e+02,  6.0000e+00,  4.4943e+04],\n",
       "       [        nan,  9.4700e+02,  9.0000e+00,  4.6613e+04],\n",
       "       [        nan,  1.0710e+03,  3.0000e+00,  4.7463e+04],\n",
       "       [        nan,  1.2090e+03,  7.0000e+00,  3.3358e+04],\n",
       "       [        nan,  9.5300e+02,  4.0000e+00,  4.5798e+04],\n",
       "       [        nan,  8.7600e+02,  4.0000e+00,  5.8054e+04],\n",
       "       [        nan,  1.3660e+03,  1.3000e+01,  5.7640e+04],\n",
       "       [        nan,  1.4090e+03,  5.0000e+00,  6.5135e+04],\n",
       "       [        nan,  1.4600e+03,  9.0000e+00,  6.4294e+04],\n",
       "       [        nan,  1.4440e+03,  1.0000e+00,  5.3541e+04],\n",
       "       [        nan,  1.3650e+03,  4.0000e+00,  4.2583e+04],\n",
       "       [        nan,  9.9600e+02,  6.0000e+00,  5.4395e+04],\n",
       "       [        nan,  9.7500e+02,  8.0000e+00,         nan],\n",
       "       [        nan,  1.3260e+03,  6.0000e+00,         nan]])"
      ]
     },
     "execution_count": 91,
     "metadata": {},
     "output_type": "execute_result"
    }
   ],
   "source": [
    "climate_data_file = np.genfromtxt('climate.txt', delimiter=',', skip_header=1)\n",
    "\n",
    "climate_data_file"
   ]
  },
  {
   "cell_type": "code",
   "execution_count": 93,
   "id": "3becf347-1db6-460a-aaee-758ddfc4dda6",
   "metadata": {},
   "outputs": [
    {
     "data": {
      "text/plain": [
       "(248, 4)"
      ]
     },
     "execution_count": 93,
     "metadata": {},
     "output_type": "execute_result"
    }
   ],
   "source": [
    "climate_data_file.shape"
   ]
  },
  {
   "cell_type": "code",
   "execution_count": 121,
   "id": "5053526f-7b83-4ae8-8afa-e5c9297a6145",
   "metadata": {},
   "outputs": [
    {
     "ename": "ValueError",
     "evalue": "matmul: Input operand 1 has a mismatch in its core dimension 0, with gufunc signature (n?,k),(k,m?)->(n?,m?) (size 3 is different from 4)",
     "output_type": "error",
     "traceback": [
      "\u001b[1;31m---------------------------------------------------------------------------\u001b[0m",
      "\u001b[1;31mValueError\u001b[0m                                Traceback (most recent call last)",
      "Cell \u001b[1;32mIn[121], line 3\u001b[0m\n\u001b[0;32m      1\u001b[0m weights \u001b[38;5;241m=\u001b[39m np\u001b[38;5;241m.\u001b[39marray([\u001b[38;5;241m0.3\u001b[39m, \u001b[38;5;241m0.2\u001b[39m, \u001b[38;5;241m0.5\u001b[39m])\n\u001b[1;32m----> 3\u001b[0m yields \u001b[38;5;241m=\u001b[39m climate_data_file \u001b[38;5;241m@\u001b[39m weights\n",
      "\u001b[1;31mValueError\u001b[0m: matmul: Input operand 1 has a mismatch in its core dimension 0, with gufunc signature (n?,k),(k,m?)->(n?,m?) (size 3 is different from 4)"
     ]
    }
   ],
   "source": [
    "weights = np.array([0.3, 0.2, 0.5])\n",
    "\n",
    "yields = climate_data_file @ weights"
   ]
  },
  {
   "cell_type": "code",
   "execution_count": 129,
   "id": "fea469fb-7cd5-434d-b566-f9f78598942a",
   "metadata": {},
   "outputs": [
    {
     "ename": "NameError",
     "evalue": "name 'yields' is not defined",
     "output_type": "error",
     "traceback": [
      "\u001b[1;31m---------------------------------------------------------------------------\u001b[0m",
      "\u001b[1;31mNameError\u001b[0m                                 Traceback (most recent call last)",
      "Cell \u001b[1;32mIn[129], line 1\u001b[0m\n\u001b[1;32m----> 1\u001b[0m climate_results \u001b[38;5;241m=\u001b[39m np\u001b[38;5;241m.\u001b[39mconcatenate((climate_data_file, yields\u001b[38;5;241m.\u001b[39mreshape(\u001b[38;5;241m248\u001b[39m,\u001b[38;5;241m1\u001b[39m)), axis\u001b[38;5;241m=\u001b[39m\u001b[38;5;241m1\u001b[39m)\n",
      "\u001b[1;31mNameError\u001b[0m: name 'yields' is not defined"
     ]
    }
   ],
   "source": [
    "climate_results = np.concatenate((climate_data_file, yields.reshape(248,1)), axis=1)"
   ]
  },
  {
   "cell_type": "code",
   "execution_count": 127,
   "id": "d037a1d4-c09e-4edd-b6e0-e14c4e5603e5",
   "metadata": {},
   "outputs": [
    {
     "ename": "NameError",
     "evalue": "name 'climate_results' is not defined",
     "output_type": "error",
     "traceback": [
      "\u001b[1;31m---------------------------------------------------------------------------\u001b[0m",
      "\u001b[1;31mNameError\u001b[0m                                 Traceback (most recent call last)",
      "Cell \u001b[1;32mIn[127], line 1\u001b[0m\n\u001b[1;32m----> 1\u001b[0m np\u001b[38;5;241m.\u001b[39msavetxt(\u001b[38;5;124m'\u001b[39m\u001b[38;5;124mclimate_results.txt\u001b[39m\u001b[38;5;124m'\u001b[39m, climate_results, fmt\u001b[38;5;241m=\u001b[39m\u001b[38;5;124m'\u001b[39m\u001b[38;5;132;01m%.2f\u001b[39;00m\u001b[38;5;124m'\u001b[39m, header\u001b[38;5;241m=\u001b[39m\u001b[38;5;124m'\u001b[39m\u001b[38;5;124mtemperature, rainfall, humidity, Yeaild_apples\u001b[39m\u001b[38;5;124m'\u001b[39m, comments\u001b[38;5;241m=\u001b[39m\u001b[38;5;124m'\u001b[39m\u001b[38;5;124m'\u001b[39m)\n",
      "\u001b[1;31mNameError\u001b[0m: name 'climate_results' is not defined"
     ]
    }
   ],
   "source": [
    "np.savetxt('climate_results.txt', climate_results, fmt='%.2f', header='temperature, rainfall, humidity, Yeaild_apples', comments='')"
   ]
  },
  {
   "cell_type": "code",
   "execution_count": 149,
   "id": "eb19607c-f39e-480a-adaa-0caa8f4a3a8b",
   "metadata": {},
   "outputs": [
    {
     "data": {
      "text/plain": [
       "(2, 3, 4)"
      ]
     },
     "execution_count": 149,
     "metadata": {},
     "output_type": "execute_result"
    }
   ],
   "source": [
    "# array indexing and slicing\n",
    "arr4 = np.array(\n",
    "        [[[1, 2, 3, 4], \n",
    "        [5, 6, 7, 8], \n",
    "        [9, 10, 11, 12]],\n",
    "        \n",
    "        [[13, 14, 15, 16], \n",
    "        [17, 18, 19, 20], \n",
    "        [21, 22, 23, 24]]]\n",
    ")\n",
    "\n",
    "arr4.shape"
   ]
  },
  {
   "cell_type": "code",
   "execution_count": 151,
   "id": "5d005750-dbb0-4f86-a33e-57cce4f4a48d",
   "metadata": {},
   "outputs": [
    {
     "data": {
      "text/plain": [
       "19"
      ]
     },
     "execution_count": 151,
     "metadata": {},
     "output_type": "execute_result"
    }
   ],
   "source": [
    "arr4[1,1,2]"
   ]
  },
  {
   "cell_type": "code",
   "execution_count": 153,
   "id": "643fd14a-8dbc-4a23-9d3e-e3c04d216008",
   "metadata": {},
   "outputs": [
    {
     "data": {
      "text/plain": [
       "array([[[13, 14]]])"
      ]
     },
     "execution_count": 153,
     "metadata": {},
     "output_type": "execute_result"
    }
   ],
   "source": [
    "arr4[1:, 0:1, :2]"
   ]
  },
  {
   "cell_type": "code",
   "execution_count": 159,
   "id": "cc480c0b-b9c1-4445-9bb1-994235b9ead9",
   "metadata": {},
   "outputs": [
    {
     "data": {
      "text/plain": [
       "array([], shape=(0, 4), dtype=int32)"
      ]
     },
     "execution_count": 159,
     "metadata": {},
     "output_type": "execute_result"
    }
   ],
   "source": [
    "arr4[1:1,2]"
   ]
  },
  {
   "cell_type": "code",
   "execution_count": 161,
   "id": "0ace6678-8d5a-4456-8d31-758574d8832b",
   "metadata": {},
   "outputs": [
    {
     "data": {
      "text/plain": [
       "array([[0., 0.],\n",
       "       [0., 0.],\n",
       "       [0., 0.]])"
      ]
     },
     "execution_count": 161,
     "metadata": {},
     "output_type": "execute_result"
    }
   ],
   "source": [
    "# creating numpy arrays\n",
    "# np.ones(3, 2)\n",
    "np.zeros((3,2))"
   ]
  },
  {
   "cell_type": "code",
   "execution_count": 163,
   "id": "0d687f00-33cf-4ae3-be64-fa8bca46a71d",
   "metadata": {},
   "outputs": [
    {
     "data": {
      "text/plain": [
       "array([[1., 0., 0.],\n",
       "       [0., 1., 0.],\n",
       "       [0., 0., 1.]])"
      ]
     },
     "execution_count": 163,
     "metadata": {},
     "output_type": "execute_result"
    }
   ],
   "source": [
    "np.eye(3)"
   ]
  },
  {
   "cell_type": "code",
   "execution_count": 169,
   "id": "90af8b39-5101-4f1e-b000-a4f1c01905b8",
   "metadata": {},
   "outputs": [
    {
     "data": {
      "text/plain": [
       "array([0.56115557, 0.23548612, 0.7793304 , 0.76528848, 0.11664024])"
      ]
     },
     "execution_count": 169,
     "metadata": {},
     "output_type": "execute_result"
    }
   ],
   "source": [
    "np.random.rand(5)\n",
    "#np.random.rand(2, 3)"
   ]
  },
  {
   "cell_type": "code",
   "execution_count": 171,
   "id": "7cfe7cf9-6498-4e2a-a050-d6b9f8500912",
   "metadata": {},
   "outputs": [
    {
     "data": {
      "text/plain": [
       "array([[42, 42, 42],\n",
       "       [42, 42, 42]])"
      ]
     },
     "execution_count": 171,
     "metadata": {},
     "output_type": "execute_result"
    }
   ],
   "source": [
    "# fixed value\n",
    "np.full([2, 3], 42)"
   ]
  },
  {
   "cell_type": "code",
   "execution_count": 173,
   "id": "fb16c177-ff9f-498e-8eb3-63106fad9783",
   "metadata": {},
   "outputs": [
    {
     "data": {
      "text/plain": [
       "array([10, 13, 16, 19, 22, 25, 28, 31, 34, 37, 40, 43, 46, 49, 52, 55, 58,\n",
       "       61, 64, 67, 70, 73, 76, 79, 82, 85, 88])"
      ]
     },
     "execution_count": 173,
     "metadata": {},
     "output_type": "execute_result"
    }
   ],
   "source": [
    "# range with start, end and step\n",
    "np.arange(10, 90, 3)"
   ]
  },
  {
   "cell_type": "code",
   "execution_count": 175,
   "id": "2d1583d6-0375-4687-a8db-f6dc20a6d94a",
   "metadata": {},
   "outputs": [
    {
     "data": {
      "text/plain": [
       "array([ 3.,  6.,  9., 12., 15., 18., 21., 24., 27.])"
      ]
     },
     "execution_count": 175,
     "metadata": {},
     "output_type": "execute_result"
    }
   ],
   "source": [
    "# equally spaced numbers in a range\n",
    "np.linspace(3, 27, 9)"
   ]
  },
  {
   "cell_type": "code",
   "execution_count": 3,
   "id": "bf20622e-cd61-425a-a6de-291f65eb1d45",
   "metadata": {},
   "outputs": [
    {
     "data": {
      "text/plain": [
       "'C:\\\\Users\\\\Veronika'"
      ]
     },
     "execution_count": 3,
     "metadata": {},
     "output_type": "execute_result"
    }
   ],
   "source": [
    "# files\n",
    "\n",
    "import os\n",
    "\n",
    "os.getcwd()"
   ]
  },
  {
   "cell_type": "code",
   "execution_count": 5,
   "id": "a2a4cf7b-c3cd-4824-a06a-a421bc581afb",
   "metadata": {},
   "outputs": [
    {
     "data": {
      "text/plain": [
       "['.anaconda',\n",
       " '.bash_history',\n",
       " '.conda',\n",
       " '.condarc',\n",
       " '.continuum',\n",
       " '.gitconfig',\n",
       " '.ipynb_checkpoints',\n",
       " '.ipython',\n",
       " '.jupyter',\n",
       " '.matplotlib',\n",
       " '.ms-ad',\n",
       " '.viminfo',\n",
       " '.vscode',\n",
       " '3D Objects',\n",
       " 'anaconda3',\n",
       " 'AppData',\n",
       " 'Application Data',\n",
       " 'climate.txt',\n",
       " 'Contacts',\n",
       " 'Cookies',\n",
       " 'Desktop',\n",
       " 'Documents',\n",
       " 'Downloads',\n",
       " 'Favorites',\n",
       " 'IntelGraphicsProfiles',\n",
       " 'Links',\n",
       " 'Local Settings',\n",
       " 'Music',\n",
       " 'My Documents',\n",
       " 'NetHood',\n",
       " 'NTUSER.DAT',\n",
       " 'ntuser.dat.LOG1',\n",
       " 'ntuser.dat.LOG2',\n",
       " 'NTUSER.DAT{2ad838bc-efea-11ee-a54d-000d3a94eaa1}.TM.blf',\n",
       " 'NTUSER.DAT{2ad838bc-efea-11ee-a54d-000d3a94eaa1}.TMContainer00000000000000000001.regtrans-ms',\n",
       " 'NTUSER.DAT{2ad838bc-efea-11ee-a54d-000d3a94eaa1}.TMContainer00000000000000000002.regtrans-ms',\n",
       " 'ntuser.ini',\n",
       " 'OneDrive',\n",
       " 'Pictures',\n",
       " 'PrintHood',\n",
       " 'PycharmProjects',\n",
       " 'PythonTut.ipynb',\n",
       " 'Recent',\n",
       " 'Saved Games',\n",
       " 'Searches',\n",
       " 'SendTo',\n",
       " 'Start Menu',\n",
       " 'Templates',\n",
       " 'Untitled.ipynb',\n",
       " 'Untitled1.ipynb',\n",
       " 'Videos']"
      ]
     },
     "execution_count": 5,
     "metadata": {},
     "output_type": "execute_result"
    }
   ],
   "source": [
    "os.listdir('.')"
   ]
  },
  {
   "cell_type": "code",
   "execution_count": 22,
   "id": "81760ea8-a7b2-4d5b-bc3e-f0c5db833425",
   "metadata": {},
   "outputs": [],
   "source": [
    "os.makedirs('./data', exist_ok=True)"
   ]
  },
  {
   "cell_type": "code",
   "execution_count": 26,
   "id": "fe85c557-3fa7-4b81-bedf-aec60362786b",
   "metadata": {},
   "outputs": [
    {
     "data": {
      "text/plain": [
       "True"
      ]
     },
     "execution_count": 26,
     "metadata": {},
     "output_type": "execute_result"
    }
   ],
   "source": [
    "'data' in os.listdir('.')"
   ]
  },
  {
   "cell_type": "code",
   "execution_count": 46,
   "id": "82b9ddf5-5e06-4be4-bbce-9e92b0fe20c7",
   "metadata": {},
   "outputs": [],
   "source": [
    "import urllib.request\n",
    "\n",
    "url1 ='https://hub.jovian.ml/wp-content/uploads/2020/08/loans1.txt'"
   ]
  },
  {
   "cell_type": "code",
   "execution_count": 70,
   "id": "6bd3dceb-c5c4-4c19-9e66-ef67de68744f",
   "metadata": {},
   "outputs": [
    {
     "ename": "URLError",
     "evalue": "<urlopen error [Errno 11001] getaddrinfo failed>",
     "output_type": "error",
     "traceback": [
      "\u001b[1;31m---------------------------------------------------------------------------\u001b[0m",
      "\u001b[1;31mgaierror\u001b[0m                                  Traceback (most recent call last)",
      "File \u001b[1;32m~\\anaconda3\\Lib\\urllib\\request.py:1344\u001b[0m, in \u001b[0;36mAbstractHTTPHandler.do_open\u001b[1;34m(self, http_class, req, **http_conn_args)\u001b[0m\n\u001b[0;32m   1343\u001b[0m \u001b[38;5;28;01mtry\u001b[39;00m:\n\u001b[1;32m-> 1344\u001b[0m     h\u001b[38;5;241m.\u001b[39mrequest(req\u001b[38;5;241m.\u001b[39mget_method(), req\u001b[38;5;241m.\u001b[39mselector, req\u001b[38;5;241m.\u001b[39mdata, headers,\n\u001b[0;32m   1345\u001b[0m               encode_chunked\u001b[38;5;241m=\u001b[39mreq\u001b[38;5;241m.\u001b[39mhas_header(\u001b[38;5;124m'\u001b[39m\u001b[38;5;124mTransfer-encoding\u001b[39m\u001b[38;5;124m'\u001b[39m))\n\u001b[0;32m   1346\u001b[0m \u001b[38;5;28;01mexcept\u001b[39;00m \u001b[38;5;167;01mOSError\u001b[39;00m \u001b[38;5;28;01mas\u001b[39;00m err: \u001b[38;5;66;03m# timeout error\u001b[39;00m\n",
      "File \u001b[1;32m~\\anaconda3\\Lib\\http\\client.py:1336\u001b[0m, in \u001b[0;36mHTTPConnection.request\u001b[1;34m(self, method, url, body, headers, encode_chunked)\u001b[0m\n\u001b[0;32m   1335\u001b[0m \u001b[38;5;250m\u001b[39m\u001b[38;5;124;03m\"\"\"Send a complete request to the server.\"\"\"\u001b[39;00m\n\u001b[1;32m-> 1336\u001b[0m \u001b[38;5;28mself\u001b[39m\u001b[38;5;241m.\u001b[39m_send_request(method, url, body, headers, encode_chunked)\n",
      "File \u001b[1;32m~\\anaconda3\\Lib\\http\\client.py:1382\u001b[0m, in \u001b[0;36mHTTPConnection._send_request\u001b[1;34m(self, method, url, body, headers, encode_chunked)\u001b[0m\n\u001b[0;32m   1381\u001b[0m     body \u001b[38;5;241m=\u001b[39m _encode(body, \u001b[38;5;124m'\u001b[39m\u001b[38;5;124mbody\u001b[39m\u001b[38;5;124m'\u001b[39m)\n\u001b[1;32m-> 1382\u001b[0m \u001b[38;5;28mself\u001b[39m\u001b[38;5;241m.\u001b[39mendheaders(body, encode_chunked\u001b[38;5;241m=\u001b[39mencode_chunked)\n",
      "File \u001b[1;32m~\\anaconda3\\Lib\\http\\client.py:1331\u001b[0m, in \u001b[0;36mHTTPConnection.endheaders\u001b[1;34m(self, message_body, encode_chunked)\u001b[0m\n\u001b[0;32m   1330\u001b[0m     \u001b[38;5;28;01mraise\u001b[39;00m CannotSendHeader()\n\u001b[1;32m-> 1331\u001b[0m \u001b[38;5;28mself\u001b[39m\u001b[38;5;241m.\u001b[39m_send_output(message_body, encode_chunked\u001b[38;5;241m=\u001b[39mencode_chunked)\n",
      "File \u001b[1;32m~\\anaconda3\\Lib\\http\\client.py:1091\u001b[0m, in \u001b[0;36mHTTPConnection._send_output\u001b[1;34m(self, message_body, encode_chunked)\u001b[0m\n\u001b[0;32m   1090\u001b[0m \u001b[38;5;28;01mdel\u001b[39;00m \u001b[38;5;28mself\u001b[39m\u001b[38;5;241m.\u001b[39m_buffer[:]\n\u001b[1;32m-> 1091\u001b[0m \u001b[38;5;28mself\u001b[39m\u001b[38;5;241m.\u001b[39msend(msg)\n\u001b[0;32m   1093\u001b[0m \u001b[38;5;28;01mif\u001b[39;00m message_body \u001b[38;5;129;01mis\u001b[39;00m \u001b[38;5;129;01mnot\u001b[39;00m \u001b[38;5;28;01mNone\u001b[39;00m:\n\u001b[0;32m   1094\u001b[0m \n\u001b[0;32m   1095\u001b[0m     \u001b[38;5;66;03m# create a consistent interface to message_body\u001b[39;00m\n",
      "File \u001b[1;32m~\\anaconda3\\Lib\\http\\client.py:1035\u001b[0m, in \u001b[0;36mHTTPConnection.send\u001b[1;34m(self, data)\u001b[0m\n\u001b[0;32m   1034\u001b[0m \u001b[38;5;28;01mif\u001b[39;00m \u001b[38;5;28mself\u001b[39m\u001b[38;5;241m.\u001b[39mauto_open:\n\u001b[1;32m-> 1035\u001b[0m     \u001b[38;5;28mself\u001b[39m\u001b[38;5;241m.\u001b[39mconnect()\n\u001b[0;32m   1036\u001b[0m \u001b[38;5;28;01melse\u001b[39;00m:\n",
      "File \u001b[1;32m~\\anaconda3\\Lib\\http\\client.py:1470\u001b[0m, in \u001b[0;36mHTTPSConnection.connect\u001b[1;34m(self)\u001b[0m\n\u001b[0;32m   1468\u001b[0m \u001b[38;5;124m\"\u001b[39m\u001b[38;5;124mConnect to a host on a given (SSL) port.\u001b[39m\u001b[38;5;124m\"\u001b[39m\n\u001b[1;32m-> 1470\u001b[0m \u001b[38;5;28msuper\u001b[39m()\u001b[38;5;241m.\u001b[39mconnect()\n\u001b[0;32m   1472\u001b[0m \u001b[38;5;28;01mif\u001b[39;00m \u001b[38;5;28mself\u001b[39m\u001b[38;5;241m.\u001b[39m_tunnel_host:\n",
      "File \u001b[1;32m~\\anaconda3\\Lib\\http\\client.py:1001\u001b[0m, in \u001b[0;36mHTTPConnection.connect\u001b[1;34m(self)\u001b[0m\n\u001b[0;32m   1000\u001b[0m sys\u001b[38;5;241m.\u001b[39maudit(\u001b[38;5;124m\"\u001b[39m\u001b[38;5;124mhttp.client.connect\u001b[39m\u001b[38;5;124m\"\u001b[39m, \u001b[38;5;28mself\u001b[39m, \u001b[38;5;28mself\u001b[39m\u001b[38;5;241m.\u001b[39mhost, \u001b[38;5;28mself\u001b[39m\u001b[38;5;241m.\u001b[39mport)\n\u001b[1;32m-> 1001\u001b[0m \u001b[38;5;28mself\u001b[39m\u001b[38;5;241m.\u001b[39msock \u001b[38;5;241m=\u001b[39m \u001b[38;5;28mself\u001b[39m\u001b[38;5;241m.\u001b[39m_create_connection(\n\u001b[0;32m   1002\u001b[0m     (\u001b[38;5;28mself\u001b[39m\u001b[38;5;241m.\u001b[39mhost,\u001b[38;5;28mself\u001b[39m\u001b[38;5;241m.\u001b[39mport), \u001b[38;5;28mself\u001b[39m\u001b[38;5;241m.\u001b[39mtimeout, \u001b[38;5;28mself\u001b[39m\u001b[38;5;241m.\u001b[39msource_address)\n\u001b[0;32m   1003\u001b[0m \u001b[38;5;66;03m# Might fail in OSs that don't implement TCP_NODELAY\u001b[39;00m\n",
      "File \u001b[1;32m~\\anaconda3\\Lib\\socket.py:841\u001b[0m, in \u001b[0;36mcreate_connection\u001b[1;34m(address, timeout, source_address, all_errors)\u001b[0m\n\u001b[0;32m    840\u001b[0m exceptions \u001b[38;5;241m=\u001b[39m []\n\u001b[1;32m--> 841\u001b[0m \u001b[38;5;28;01mfor\u001b[39;00m res \u001b[38;5;129;01min\u001b[39;00m getaddrinfo(host, port, \u001b[38;5;241m0\u001b[39m, SOCK_STREAM):\n\u001b[0;32m    842\u001b[0m     af, socktype, proto, canonname, sa \u001b[38;5;241m=\u001b[39m res\n",
      "File \u001b[1;32m~\\anaconda3\\Lib\\socket.py:976\u001b[0m, in \u001b[0;36mgetaddrinfo\u001b[1;34m(host, port, family, type, proto, flags)\u001b[0m\n\u001b[0;32m    975\u001b[0m addrlist \u001b[38;5;241m=\u001b[39m []\n\u001b[1;32m--> 976\u001b[0m \u001b[38;5;28;01mfor\u001b[39;00m res \u001b[38;5;129;01min\u001b[39;00m _socket\u001b[38;5;241m.\u001b[39mgetaddrinfo(host, port, family, \u001b[38;5;28mtype\u001b[39m, proto, flags):\n\u001b[0;32m    977\u001b[0m     af, socktype, proto, canonname, sa \u001b[38;5;241m=\u001b[39m res\n",
      "\u001b[1;31mgaierror\u001b[0m: [Errno 11001] getaddrinfo failed",
      "\nDuring handling of the above exception, another exception occurred:\n",
      "\u001b[1;31mURLError\u001b[0m                                  Traceback (most recent call last)",
      "Cell \u001b[1;32mIn[70], line 1\u001b[0m\n\u001b[1;32m----> 1\u001b[0m urllib\u001b[38;5;241m.\u001b[39mrequest\u001b[38;5;241m.\u001b[39murlretrieve(url1,\u001b[38;5;124m'\u001b[39m\u001b[38;5;124m./data/loans1.txt\u001b[39m\u001b[38;5;124m'\u001b[39m)\n\u001b[0;32m      2\u001b[0m urllib\u001b[38;5;241m.\u001b[39mrequest\u001b[38;5;241m.\u001b[39murlretrieve(url2,\u001b[38;5;124m'\u001b[39m\u001b[38;5;124m./data/loans2.txt\u001b[39m\u001b[38;5;124m'\u001b[39m)\n\u001b[0;32m      3\u001b[0m urllib\u001b[38;5;241m.\u001b[39mrequest\u001b[38;5;241m.\u001b[39murlretrieve(url3,\u001b[38;5;124m'\u001b[39m\u001b[38;5;124m./data/loans3.txt\u001b[39m\u001b[38;5;124m'\u001b[39m)\n",
      "File \u001b[1;32m~\\anaconda3\\Lib\\urllib\\request.py:240\u001b[0m, in \u001b[0;36murlretrieve\u001b[1;34m(url, filename, reporthook, data)\u001b[0m\n\u001b[0;32m    223\u001b[0m \u001b[38;5;250m\u001b[39m\u001b[38;5;124;03m\"\"\"\u001b[39;00m\n\u001b[0;32m    224\u001b[0m \u001b[38;5;124;03mRetrieve a URL into a temporary location on disk.\u001b[39;00m\n\u001b[0;32m    225\u001b[0m \n\u001b[1;32m   (...)\u001b[0m\n\u001b[0;32m    236\u001b[0m \u001b[38;5;124;03mdata file as well as the resulting HTTPMessage object.\u001b[39;00m\n\u001b[0;32m    237\u001b[0m \u001b[38;5;124;03m\"\"\"\u001b[39;00m\n\u001b[0;32m    238\u001b[0m url_type, path \u001b[38;5;241m=\u001b[39m _splittype(url)\n\u001b[1;32m--> 240\u001b[0m \u001b[38;5;28;01mwith\u001b[39;00m contextlib\u001b[38;5;241m.\u001b[39mclosing(urlopen(url, data)) \u001b[38;5;28;01mas\u001b[39;00m fp:\n\u001b[0;32m    241\u001b[0m     headers \u001b[38;5;241m=\u001b[39m fp\u001b[38;5;241m.\u001b[39minfo()\n\u001b[0;32m    243\u001b[0m     \u001b[38;5;66;03m# Just return the local path and the \"headers\" for file://\u001b[39;00m\n\u001b[0;32m    244\u001b[0m     \u001b[38;5;66;03m# URLs. No sense in performing a copy unless requested.\u001b[39;00m\n",
      "File \u001b[1;32m~\\anaconda3\\Lib\\urllib\\request.py:215\u001b[0m, in \u001b[0;36murlopen\u001b[1;34m(url, data, timeout, cafile, capath, cadefault, context)\u001b[0m\n\u001b[0;32m    213\u001b[0m \u001b[38;5;28;01melse\u001b[39;00m:\n\u001b[0;32m    214\u001b[0m     opener \u001b[38;5;241m=\u001b[39m _opener\n\u001b[1;32m--> 215\u001b[0m \u001b[38;5;28;01mreturn\u001b[39;00m opener\u001b[38;5;241m.\u001b[39mopen(url, data, timeout)\n",
      "File \u001b[1;32m~\\anaconda3\\Lib\\urllib\\request.py:515\u001b[0m, in \u001b[0;36mOpenerDirector.open\u001b[1;34m(self, fullurl, data, timeout)\u001b[0m\n\u001b[0;32m    512\u001b[0m     req \u001b[38;5;241m=\u001b[39m meth(req)\n\u001b[0;32m    514\u001b[0m sys\u001b[38;5;241m.\u001b[39maudit(\u001b[38;5;124m'\u001b[39m\u001b[38;5;124murllib.Request\u001b[39m\u001b[38;5;124m'\u001b[39m, req\u001b[38;5;241m.\u001b[39mfull_url, req\u001b[38;5;241m.\u001b[39mdata, req\u001b[38;5;241m.\u001b[39mheaders, req\u001b[38;5;241m.\u001b[39mget_method())\n\u001b[1;32m--> 515\u001b[0m response \u001b[38;5;241m=\u001b[39m \u001b[38;5;28mself\u001b[39m\u001b[38;5;241m.\u001b[39m_open(req, data)\n\u001b[0;32m    517\u001b[0m \u001b[38;5;66;03m# post-process response\u001b[39;00m\n\u001b[0;32m    518\u001b[0m meth_name \u001b[38;5;241m=\u001b[39m protocol\u001b[38;5;241m+\u001b[39m\u001b[38;5;124m\"\u001b[39m\u001b[38;5;124m_response\u001b[39m\u001b[38;5;124m\"\u001b[39m\n",
      "File \u001b[1;32m~\\anaconda3\\Lib\\urllib\\request.py:532\u001b[0m, in \u001b[0;36mOpenerDirector._open\u001b[1;34m(self, req, data)\u001b[0m\n\u001b[0;32m    529\u001b[0m     \u001b[38;5;28;01mreturn\u001b[39;00m result\n\u001b[0;32m    531\u001b[0m protocol \u001b[38;5;241m=\u001b[39m req\u001b[38;5;241m.\u001b[39mtype\n\u001b[1;32m--> 532\u001b[0m result \u001b[38;5;241m=\u001b[39m \u001b[38;5;28mself\u001b[39m\u001b[38;5;241m.\u001b[39m_call_chain(\u001b[38;5;28mself\u001b[39m\u001b[38;5;241m.\u001b[39mhandle_open, protocol, protocol \u001b[38;5;241m+\u001b[39m\n\u001b[0;32m    533\u001b[0m                           \u001b[38;5;124m'\u001b[39m\u001b[38;5;124m_open\u001b[39m\u001b[38;5;124m'\u001b[39m, req)\n\u001b[0;32m    534\u001b[0m \u001b[38;5;28;01mif\u001b[39;00m result:\n\u001b[0;32m    535\u001b[0m     \u001b[38;5;28;01mreturn\u001b[39;00m result\n",
      "File \u001b[1;32m~\\anaconda3\\Lib\\urllib\\request.py:492\u001b[0m, in \u001b[0;36mOpenerDirector._call_chain\u001b[1;34m(self, chain, kind, meth_name, *args)\u001b[0m\n\u001b[0;32m    490\u001b[0m \u001b[38;5;28;01mfor\u001b[39;00m handler \u001b[38;5;129;01min\u001b[39;00m handlers:\n\u001b[0;32m    491\u001b[0m     func \u001b[38;5;241m=\u001b[39m \u001b[38;5;28mgetattr\u001b[39m(handler, meth_name)\n\u001b[1;32m--> 492\u001b[0m     result \u001b[38;5;241m=\u001b[39m func(\u001b[38;5;241m*\u001b[39margs)\n\u001b[0;32m    493\u001b[0m     \u001b[38;5;28;01mif\u001b[39;00m result \u001b[38;5;129;01mis\u001b[39;00m \u001b[38;5;129;01mnot\u001b[39;00m \u001b[38;5;28;01mNone\u001b[39;00m:\n\u001b[0;32m    494\u001b[0m         \u001b[38;5;28;01mreturn\u001b[39;00m result\n",
      "File \u001b[1;32m~\\anaconda3\\Lib\\urllib\\request.py:1392\u001b[0m, in \u001b[0;36mHTTPSHandler.https_open\u001b[1;34m(self, req)\u001b[0m\n\u001b[0;32m   1391\u001b[0m \u001b[38;5;28;01mdef\u001b[39;00m \u001b[38;5;21mhttps_open\u001b[39m(\u001b[38;5;28mself\u001b[39m, req):\n\u001b[1;32m-> 1392\u001b[0m     \u001b[38;5;28;01mreturn\u001b[39;00m \u001b[38;5;28mself\u001b[39m\u001b[38;5;241m.\u001b[39mdo_open(http\u001b[38;5;241m.\u001b[39mclient\u001b[38;5;241m.\u001b[39mHTTPSConnection, req,\n\u001b[0;32m   1393\u001b[0m                         context\u001b[38;5;241m=\u001b[39m\u001b[38;5;28mself\u001b[39m\u001b[38;5;241m.\u001b[39m_context)\n",
      "File \u001b[1;32m~\\anaconda3\\Lib\\urllib\\request.py:1347\u001b[0m, in \u001b[0;36mAbstractHTTPHandler.do_open\u001b[1;34m(self, http_class, req, **http_conn_args)\u001b[0m\n\u001b[0;32m   1344\u001b[0m         h\u001b[38;5;241m.\u001b[39mrequest(req\u001b[38;5;241m.\u001b[39mget_method(), req\u001b[38;5;241m.\u001b[39mselector, req\u001b[38;5;241m.\u001b[39mdata, headers,\n\u001b[0;32m   1345\u001b[0m                   encode_chunked\u001b[38;5;241m=\u001b[39mreq\u001b[38;5;241m.\u001b[39mhas_header(\u001b[38;5;124m'\u001b[39m\u001b[38;5;124mTransfer-encoding\u001b[39m\u001b[38;5;124m'\u001b[39m))\n\u001b[0;32m   1346\u001b[0m     \u001b[38;5;28;01mexcept\u001b[39;00m \u001b[38;5;167;01mOSError\u001b[39;00m \u001b[38;5;28;01mas\u001b[39;00m err: \u001b[38;5;66;03m# timeout error\u001b[39;00m\n\u001b[1;32m-> 1347\u001b[0m         \u001b[38;5;28;01mraise\u001b[39;00m URLError(err)\n\u001b[0;32m   1348\u001b[0m     r \u001b[38;5;241m=\u001b[39m h\u001b[38;5;241m.\u001b[39mgetresponse()\n\u001b[0;32m   1349\u001b[0m \u001b[38;5;28;01mexcept\u001b[39;00m:\n",
      "\u001b[1;31mURLError\u001b[0m: <urlopen error [Errno 11001] getaddrinfo failed>"
     ]
    }
   ],
   "source": [
    "urllib.request.urlretrieve(url1,'./data/loans1.txt')\n",
    "urllib.request.urlretrieve(url2,'./data/loans2.txt')\n",
    "urllib.request.urlretrieve(url3,'./data/loans3.txt')"
   ]
  },
  {
   "cell_type": "code",
   "execution_count": 58,
   "id": "d10ecc67-8d91-4fe1-be9e-1dc7629979c7",
   "metadata": {},
   "outputs": [
    {
     "data": {
      "text/plain": [
       "[]"
      ]
     },
     "execution_count": 58,
     "metadata": {},
     "output_type": "execute_result"
    }
   ],
   "source": [
    "os.listdir('./data')"
   ]
  },
  {
   "cell_type": "code",
   "execution_count": 60,
   "id": "88ea5053-4218-46b3-b953-f95592aece57",
   "metadata": {},
   "outputs": [
    {
     "ename": "FileNotFoundError",
     "evalue": "[Errno 2] No such file or directory: './data/loans1.txt'",
     "output_type": "error",
     "traceback": [
      "\u001b[1;31m---------------------------------------------------------------------------\u001b[0m",
      "\u001b[1;31mFileNotFoundError\u001b[0m                         Traceback (most recent call last)",
      "Cell \u001b[1;32mIn[60], line 1\u001b[0m\n\u001b[1;32m----> 1\u001b[0m file1 \u001b[38;5;241m=\u001b[39m \u001b[38;5;28mopen\u001b[39m(\u001b[38;5;124m'\u001b[39m\u001b[38;5;124m./data/loans1.txt\u001b[39m\u001b[38;5;124m'\u001b[39m, mode\u001b[38;5;241m=\u001b[39m\u001b[38;5;124m'\u001b[39m\u001b[38;5;124mr\u001b[39m\u001b[38;5;124m'\u001b[39m)\n",
      "File \u001b[1;32m~\\anaconda3\\Lib\\site-packages\\IPython\\core\\interactiveshell.py:324\u001b[0m, in \u001b[0;36m_modified_open\u001b[1;34m(file, *args, **kwargs)\u001b[0m\n\u001b[0;32m    317\u001b[0m \u001b[38;5;28;01mif\u001b[39;00m file \u001b[38;5;129;01min\u001b[39;00m {\u001b[38;5;241m0\u001b[39m, \u001b[38;5;241m1\u001b[39m, \u001b[38;5;241m2\u001b[39m}:\n\u001b[0;32m    318\u001b[0m     \u001b[38;5;28;01mraise\u001b[39;00m \u001b[38;5;167;01mValueError\u001b[39;00m(\n\u001b[0;32m    319\u001b[0m         \u001b[38;5;124mf\u001b[39m\u001b[38;5;124m\"\u001b[39m\u001b[38;5;124mIPython won\u001b[39m\u001b[38;5;124m'\u001b[39m\u001b[38;5;124mt let you open fd=\u001b[39m\u001b[38;5;132;01m{\u001b[39;00mfile\u001b[38;5;132;01m}\u001b[39;00m\u001b[38;5;124m by default \u001b[39m\u001b[38;5;124m\"\u001b[39m\n\u001b[0;32m    320\u001b[0m         \u001b[38;5;124m\"\u001b[39m\u001b[38;5;124mas it is likely to crash IPython. If you know what you are doing, \u001b[39m\u001b[38;5;124m\"\u001b[39m\n\u001b[0;32m    321\u001b[0m         \u001b[38;5;124m\"\u001b[39m\u001b[38;5;124myou can use builtins\u001b[39m\u001b[38;5;124m'\u001b[39m\u001b[38;5;124m open.\u001b[39m\u001b[38;5;124m\"\u001b[39m\n\u001b[0;32m    322\u001b[0m     )\n\u001b[1;32m--> 324\u001b[0m \u001b[38;5;28;01mreturn\u001b[39;00m io_open(file, \u001b[38;5;241m*\u001b[39margs, \u001b[38;5;241m*\u001b[39m\u001b[38;5;241m*\u001b[39mkwargs)\n",
      "\u001b[1;31mFileNotFoundError\u001b[0m: [Errno 2] No such file or directory: './data/loans1.txt'"
     ]
    }
   ],
   "source": [
    "file1 = open('./data/loans1.txt', mode='r')"
   ]
  },
  {
   "cell_type": "code",
   "execution_count": 62,
   "id": "acd03d9d-cf82-4ba6-bb0e-06ea020b6ec3",
   "metadata": {},
   "outputs": [
    {
     "ename": "NameError",
     "evalue": "name 'file1' is not defined",
     "output_type": "error",
     "traceback": [
      "\u001b[1;31m---------------------------------------------------------------------------\u001b[0m",
      "\u001b[1;31mNameError\u001b[0m                                 Traceback (most recent call last)",
      "Cell \u001b[1;32mIn[62], line 1\u001b[0m\n\u001b[1;32m----> 1\u001b[0m file1_contents \u001b[38;5;241m=\u001b[39m file1\u001b[38;5;241m.\u001b[39mread()\n",
      "\u001b[1;31mNameError\u001b[0m: name 'file1' is not defined"
     ]
    }
   ],
   "source": [
    "file1_contents = file1.read()"
   ]
  },
  {
   "cell_type": "code",
   "execution_count": 66,
   "id": "3eddea33-b124-49f3-b687-06da1ed4a634",
   "metadata": {},
   "outputs": [
    {
     "ename": "NameError",
     "evalue": "name 'file1_contents' is not defined",
     "output_type": "error",
     "traceback": [
      "\u001b[1;31m---------------------------------------------------------------------------\u001b[0m",
      "\u001b[1;31mNameError\u001b[0m                                 Traceback (most recent call last)",
      "Cell \u001b[1;32mIn[66], line 1\u001b[0m\n\u001b[1;32m----> 1\u001b[0m \u001b[38;5;28mprint\u001b[39m(file1_contents)\n",
      "\u001b[1;31mNameError\u001b[0m: name 'file1_contents' is not defined"
     ]
    }
   ],
   "source": [
    "print(file1_contents)"
   ]
  },
  {
   "cell_type": "code",
   "execution_count": 68,
   "id": "7b9f9926-9740-4f97-bcdd-17331122f66f",
   "metadata": {},
   "outputs": [
    {
     "ename": "NameError",
     "evalue": "name 'file1' is not defined",
     "output_type": "error",
     "traceback": [
      "\u001b[1;31m---------------------------------------------------------------------------\u001b[0m",
      "\u001b[1;31mNameError\u001b[0m                                 Traceback (most recent call last)",
      "Cell \u001b[1;32mIn[68], line 1\u001b[0m\n\u001b[1;32m----> 1\u001b[0m file1\u001b[38;5;241m.\u001b[39mclose()\n",
      "\u001b[1;31mNameError\u001b[0m: name 'file1' is not defined"
     ]
    }
   ],
   "source": [
    "file1.close()"
   ]
  },
  {
   "cell_type": "code",
   "execution_count": 72,
   "id": "2f4d7e9c-970c-4e1d-8a50-4a377df0b6c1",
   "metadata": {},
   "outputs": [
    {
     "ename": "FileNotFoundError",
     "evalue": "[Errno 2] No such file or directory: './data/loans3.txt'",
     "output_type": "error",
     "traceback": [
      "\u001b[1;31m---------------------------------------------------------------------------\u001b[0m",
      "\u001b[1;31mFileNotFoundError\u001b[0m                         Traceback (most recent call last)",
      "Cell \u001b[1;32mIn[72], line 3\u001b[0m\n\u001b[0;32m      1\u001b[0m \u001b[38;5;66;03m# reading file by line\u001b[39;00m\n\u001b[1;32m----> 3\u001b[0m file3 \u001b[38;5;241m=\u001b[39m \u001b[38;5;28mopen\u001b[39m(\u001b[38;5;124m'\u001b[39m\u001b[38;5;124m./data/loans3.txt\u001b[39m\u001b[38;5;124m'\u001b[39m, mode\u001b[38;5;241m=\u001b[39m\u001b[38;5;124m'\u001b[39m\u001b[38;5;124mr\u001b[39m\u001b[38;5;124m'\u001b[39m)\n\u001b[0;32m      4\u001b[0m file_contents3 \u001b[38;5;241m=\u001b[39m file3\u001b[38;5;241m.\u001b[39mreadlines()\n\u001b[0;32m      5\u001b[0m file_contents3\n",
      "File \u001b[1;32m~\\anaconda3\\Lib\\site-packages\\IPython\\core\\interactiveshell.py:324\u001b[0m, in \u001b[0;36m_modified_open\u001b[1;34m(file, *args, **kwargs)\u001b[0m\n\u001b[0;32m    317\u001b[0m \u001b[38;5;28;01mif\u001b[39;00m file \u001b[38;5;129;01min\u001b[39;00m {\u001b[38;5;241m0\u001b[39m, \u001b[38;5;241m1\u001b[39m, \u001b[38;5;241m2\u001b[39m}:\n\u001b[0;32m    318\u001b[0m     \u001b[38;5;28;01mraise\u001b[39;00m \u001b[38;5;167;01mValueError\u001b[39;00m(\n\u001b[0;32m    319\u001b[0m         \u001b[38;5;124mf\u001b[39m\u001b[38;5;124m\"\u001b[39m\u001b[38;5;124mIPython won\u001b[39m\u001b[38;5;124m'\u001b[39m\u001b[38;5;124mt let you open fd=\u001b[39m\u001b[38;5;132;01m{\u001b[39;00mfile\u001b[38;5;132;01m}\u001b[39;00m\u001b[38;5;124m by default \u001b[39m\u001b[38;5;124m\"\u001b[39m\n\u001b[0;32m    320\u001b[0m         \u001b[38;5;124m\"\u001b[39m\u001b[38;5;124mas it is likely to crash IPython. If you know what you are doing, \u001b[39m\u001b[38;5;124m\"\u001b[39m\n\u001b[0;32m    321\u001b[0m         \u001b[38;5;124m\"\u001b[39m\u001b[38;5;124myou can use builtins\u001b[39m\u001b[38;5;124m'\u001b[39m\u001b[38;5;124m open.\u001b[39m\u001b[38;5;124m\"\u001b[39m\n\u001b[0;32m    322\u001b[0m     )\n\u001b[1;32m--> 324\u001b[0m \u001b[38;5;28;01mreturn\u001b[39;00m io_open(file, \u001b[38;5;241m*\u001b[39margs, \u001b[38;5;241m*\u001b[39m\u001b[38;5;241m*\u001b[39mkwargs)\n",
      "\u001b[1;31mFileNotFoundError\u001b[0m: [Errno 2] No such file or directory: './data/loans3.txt'"
     ]
    }
   ],
   "source": [
    "# reading file by line\n",
    "\n",
    "file3 = open('./data/loans3.txt', mode='r')\n",
    "file_contents3 = file3.readlines()\n",
    "file_contents3"
   ]
  },
  {
   "cell_type": "code",
   "execution_count": null,
   "id": "9a079245-b603-4a6b-9fb2-5ae9125f377d",
   "metadata": {},
   "outputs": [],
   "source": []
  }
 ],
 "metadata": {
  "kernelspec": {
   "display_name": "Python 3 (ipykernel)",
   "language": "python",
   "name": "python3"
  },
  "language_info": {
   "codemirror_mode": {
    "name": "ipython",
    "version": 3
   },
   "file_extension": ".py",
   "mimetype": "text/x-python",
   "name": "python",
   "nbconvert_exporter": "python",
   "pygments_lexer": "ipython3",
   "version": "3.12.7"
  }
 },
 "nbformat": 4,
 "nbformat_minor": 5
}
